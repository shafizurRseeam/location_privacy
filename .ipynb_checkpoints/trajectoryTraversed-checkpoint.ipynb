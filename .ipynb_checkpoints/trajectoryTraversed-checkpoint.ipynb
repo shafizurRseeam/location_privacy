{
 "cells": [
  {
   "cell_type": "code",
   "execution_count": 1,
   "id": "7d49951c-8482-4a7a-aadb-30a1caed885f",
   "metadata": {},
   "outputs": [
    {
     "name": "stdout",
     "output_type": "stream",
     "text": [
      "Total Distance Traversed: 58.952636332090854 km\n"
     ]
    }
   ],
   "source": [
    "# import pandas as pd\n",
    "# import numpy as np\n",
    "\n",
    "# def haversine(lon1, lat1, lon2, lat2):\n",
    "#     \"\"\"\n",
    "#     Calculate the great circle distance in kilometers between two points \n",
    "#     on the earth (specified in decimal degrees).\n",
    "#     \"\"\"\n",
    "#     # convert decimal degrees to radians \n",
    "#     lon1, lat1, lon2, lat2 = map(np.radians, [lon1, lat1, lon2, lat2])\n",
    "\n",
    "#     # haversine formula \n",
    "#     dlon = lon2 - lon1 \n",
    "#     dlat = lat2 - lat1 \n",
    "#     a = np.sin(dlat/2)**2 + np.cos(lat1) * np.cos(lat2) * np.sin(dlon/2)**2\n",
    "#     c = 2 * np.arcsin(np.sqrt(a)) \n",
    "#     r = 6371 # Radius of earth in kilometers. Use 3956 for miles\n",
    "#     return c * r\n",
    "\n",
    "# def total_trajectory_distance(csv_file):\n",
    "#     # Load the CSV file\n",
    "#     df = pd.read_csv(csv_file)\n",
    "    \n",
    "#     # Ensure the DataFrame is sorted by the trajectory order if necessary\n",
    "#     # This step assumes the CSV is already in the correct order\n",
    "    \n",
    "#     # Calculate the distances\n",
    "#     distances = [\n",
    "#         haversine(lon1, lat1, lon2, lat2) \n",
    "#         for lat1, lon1, lat2, lon2 in zip(df['latitude'][:-1], df['longitude'][:-1], df['latitude'][1:], df['longitude'][1:])\n",
    "#     ]\n",
    "    \n",
    "#     # Sum the distances\n",
    "#     total_distance = sum(distances)\n",
    "#     return total_distance\n",
    "\n",
    "# # Example usage\n",
    "# csv_file = 'C:\\\\Users\\\\ss6365\\\\Desktop\\\\location_privacy\\\\geolife\\\\1\\\\041_495.csv'  # Replace this with the path to your CSV file\n",
    "# total_distance = total_trajectory_distance(csv_file)\n",
    "# print(f\"Total Distance Traversed: {total_distance} km\")\n"
   ]
  },
  {
   "cell_type": "code",
   "execution_count": 2,
   "id": "30a4f404-5f5b-48ed-a1c1-ba675434080c",
   "metadata": {},
   "outputs": [
    {
     "name": "stdout",
     "output_type": "stream",
     "text": [
      "Cumulative Distance Traversed: 17131.238498445648 km\n"
     ]
    }
   ],
   "source": [
    "import os\n",
    "import pandas as pd\n",
    "import numpy as np\n",
    "\n",
    "def haversine(lon1, lat1, lon2, lat2):\n",
    "    \"\"\"\n",
    "    Calculate the great circle distance in kilometers between two points \n",
    "    on the earth (specified in decimal degrees).\n",
    "    \"\"\"\n",
    "    # convert decimal degrees to radians \n",
    "    lon1, lat1, lon2, lat2 = map(np.radians, [lon1, lat1, lon2, lat2])\n",
    "\n",
    "    # haversine formula \n",
    "    dlon = lon2 - lon1 \n",
    "    dlat = lat2 - lat1 \n",
    "    a = np.sin(dlat/2)**2 + np.cos(lat1) * np.cos(lat2) * np.sin(dlon/2)**2\n",
    "    c = 2 * np.arcsin(np.sqrt(a)) \n",
    "    r = 6371 # Radius of earth in kilometers. Use 3956 for miles\n",
    "    return c * r\n",
    "\n",
    "def calculate_distance_for_file(csv_file):\n",
    "    # Load the CSV file\n",
    "    df = pd.read_csv(csv_file)\n",
    "    \n",
    "    # Calculate the distances\n",
    "    distances = [\n",
    "        haversine(lon1, lat1, lon2, lat2) \n",
    "        for lat1, lon1, lat2, lon2 in zip(df['latitude'][:-1], df['longitude'][:-1], df['latitude'][1:], df['longitude'][1:])\n",
    "    ]\n",
    "    \n",
    "    # Sum the distances\n",
    "    return sum(distances)\n",
    "\n",
    "def calculate_cumulative_distance(directory):\n",
    "    total_distance = 0\n",
    "    for filename in os.listdir(directory):\n",
    "        if filename.endswith(\".csv\"):\n",
    "            file_path = os.path.join(directory, filename)\n",
    "            total_distance += calculate_distance_for_file(file_path)\n",
    "    return total_distance\n",
    "\n",
    "# Example usage\n",
    "directory = 'C:\\\\Users\\\\ss6365\\\\Desktop\\\\11111\\\\Geolife\\\\Dataset\\\\Utility_Geo'  # Replace this with the path to your directory\n",
    "cumulative_distance = calculate_cumulative_distance(directory)\n",
    "print(f\"Cumulative Distance Traversed: {cumulative_distance} km\")\n"
   ]
  },
  {
   "cell_type": "code",
   "execution_count": null,
   "id": "b5db005e-30c0-48e7-8571-1a1903203be9",
   "metadata": {},
   "outputs": [],
   "source": []
  }
 ],
 "metadata": {
  "kernelspec": {
   "display_name": "Python 3 (ipykernel)",
   "language": "python",
   "name": "python3"
  },
  "language_info": {
   "codemirror_mode": {
    "name": "ipython",
    "version": 3
   },
   "file_extension": ".py",
   "mimetype": "text/x-python",
   "name": "python",
   "nbconvert_exporter": "python",
   "pygments_lexer": "ipython3",
   "version": "3.10.13"
  }
 },
 "nbformat": 4,
 "nbformat_minor": 5
}
